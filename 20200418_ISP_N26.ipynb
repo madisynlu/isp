{
  "nbformat": 4,
  "nbformat_minor": 0,
  "metadata": {
    "colab": {
      "name": "20200418 ISP N26.ipynb",
      "provenance": [],
      "collapsed_sections": [],
      "authorship_tag": "ABX9TyNfP+K4qiw7a6knO+Z9vRTc",
      "include_colab_link": true
    },
    "kernelspec": {
      "name": "python3",
      "display_name": "Python 3"
    }
  },
  "cells": [
    {
      "cell_type": "markdown",
      "metadata": {
        "id": "view-in-github",
        "colab_type": "text"
      },
      "source": [
        "<a href=\"https://colab.research.google.com/github/madisynlu/isp/blob/master/20200418_ISP_N26.ipynb\" target=\"_parent\"><img src=\"https://colab.research.google.com/assets/colab-badge.svg\" alt=\"Open In Colab\"/></a>"
      ]
    },
    {
      "cell_type": "markdown",
      "metadata": {
        "id": "RR7umYENPjHH",
        "colab_type": "text"
      },
      "source": [
        "# Import jobs from N26 website"
      ]
    },
    {
      "cell_type": "markdown",
      "metadata": {
        "id": "DHdc2Db-SqNo",
        "colab_type": "text"
      },
      "source": [
        "## Collect info from main page"
      ]
    },
    {
      "cell_type": "code",
      "metadata": {
        "id": "TaRLveJ51FEn",
        "colab_type": "code",
        "colab": {}
      },
      "source": [
        "# get to main jobs page\n",
        "import requests\n",
        "page = requests.get('https://n26.com/en/careers').content"
      ],
      "execution_count": 0,
      "outputs": []
    },
    {
      "cell_type": "code",
      "metadata": {
        "id": "w9897D01P4Lj",
        "colab_type": "code",
        "colab": {}
      },
      "source": [
        "# parse the main page\n",
        "from lxml import html\n",
        "tree = html.fromstring(page)"
      ],
      "execution_count": 0,
      "outputs": []
    },
    {
      "cell_type": "code",
      "metadata": {
        "id": "ofenVxf6P_G2",
        "colab_type": "code",
        "colab": {}
      },
      "source": [
        "# capture info from the main jobs page\n",
        "id = tree.xpath('//ul[@class=\"ah aj al an ap aq jj jx jy jz ka\"]//a/@href')\n",
        "title = tree.xpath('//div[@class=\"ak iz ja kb kc kd ke kf kg kh ki kj kk kl km kn ko kp kq kr ks kt ku kv kw kx ky kz la lb lc ld le lf lg lh li lj lk ll lm ln lo lp lq lr ls lt lu lv lw lx ly lz ma mb mc md me mf mg mh mi mj mk ml mm mn mo mp mq mr ms mt mu mv mw mx my mz na nb nc nd ne nf ng nh ni nj nk nl nm nn no np nq nr ns nt nu nv nw nx ny nz oa ob v\"]/text()')\n",
        "timetype = tree.xpath('//dt[contains(text(), \"Time Type\")]/following-sibling::dd/text()')"
      ],
      "execution_count": 0,
      "outputs": []
    },
    {
      "cell_type": "code",
      "metadata": {
        "id": "Qu71EbIYUUI1",
        "colab_type": "code",
        "colab": {}
      },
      "source": [
        "# make this into a table\n",
        "import pandas as pd\n",
        "df = pd.concat([pd.Series(id), pd.Series(title),\n",
        "               pd.Series(timetype)], axis=1)\n",
        "df.columns = ['id', 'title', 'timetype']"
      ],
      "execution_count": 0,
      "outputs": []
    },
    {
      "cell_type": "code",
      "metadata": {
        "id": "umkKELhcQxrv",
        "colab_type": "code",
        "outputId": "8148e1ee-c9d2-4350-92f2-632e33194dd6",
        "colab": {
          "base_uri": "https://localhost:8080/",
          "height": 34
        }
      },
      "source": [
        "# check for duplicates\n",
        "df['id'].duplicated().sum()\n",
        "df.duplicated().sum()"
      ],
      "execution_count": 0,
      "outputs": [
        {
          "output_type": "execute_result",
          "data": {
            "text/plain": [
              "0"
            ]
          },
          "metadata": {
            "tags": []
          },
          "execution_count": 6
        }
      ]
    },
    {
      "cell_type": "code",
      "metadata": {
        "id": "3EyERDAtV9fL",
        "colab_type": "code",
        "outputId": "4bceb773-6d24-4eea-f180-8a79ac044ae3",
        "colab": {
          "base_uri": "https://localhost:8080/",
          "height": 232
        }
      },
      "source": [
        "# look at table\n",
        "df"
      ],
      "execution_count": 0,
      "outputs": [
        {
          "output_type": "execute_result",
          "data": {
            "text/html": [
              "<div>\n",
              "<style scoped>\n",
              "    .dataframe tbody tr th:only-of-type {\n",
              "        vertical-align: middle;\n",
              "    }\n",
              "\n",
              "    .dataframe tbody tr th {\n",
              "        vertical-align: top;\n",
              "    }\n",
              "\n",
              "    .dataframe thead th {\n",
              "        text-align: right;\n",
              "    }\n",
              "</style>\n",
              "<table border=\"1\" class=\"dataframe\">\n",
              "  <thead>\n",
              "    <tr style=\"text-align: right;\">\n",
              "      <th></th>\n",
              "      <th>id</th>\n",
              "      <th>title</th>\n",
              "      <th>timetype</th>\n",
              "    </tr>\n",
              "  </thead>\n",
              "  <tbody>\n",
              "    <tr>\n",
              "      <th>0</th>\n",
              "      <td>/en/careers/positions/2152856</td>\n",
              "      <td>Content Writer -  English Speaking</td>\n",
              "      <td>Full time</td>\n",
              "    </tr>\n",
              "    <tr>\n",
              "      <th>1</th>\n",
              "      <td>/en/careers/positions/2150159</td>\n",
              "      <td>Director of Banking Strategy and Excellence</td>\n",
              "      <td>Full time</td>\n",
              "    </tr>\n",
              "    <tr>\n",
              "      <th>2</th>\n",
              "      <td>/en/careers/positions/1815799</td>\n",
              "      <td>Director of Global Public Relations</td>\n",
              "      <td>Full time</td>\n",
              "    </tr>\n",
              "    <tr>\n",
              "      <th>3</th>\n",
              "      <td>/en/careers/positions/1979536</td>\n",
              "      <td>Director of People - US</td>\n",
              "      <td>Full time</td>\n",
              "    </tr>\n",
              "    <tr>\n",
              "      <th>4</th>\n",
              "      <td>/en/careers/positions/2152786</td>\n",
              "      <td>Editor in Chief</td>\n",
              "      <td>Full time</td>\n",
              "    </tr>\n",
              "    <tr>\n",
              "      <th>5</th>\n",
              "      <td>/en/careers/positions/2034972</td>\n",
              "      <td>Engineering Manager - Payments/Financial Crime</td>\n",
              "      <td>NaN</td>\n",
              "    </tr>\n",
              "  </tbody>\n",
              "</table>\n",
              "</div>"
            ],
            "text/plain": [
              "                              id  ...   timetype\n",
              "0  /en/careers/positions/2152856  ...  Full time\n",
              "1  /en/careers/positions/2150159  ...  Full time\n",
              "2  /en/careers/positions/1815799  ...  Full time\n",
              "3  /en/careers/positions/1979536  ...  Full time\n",
              "4  /en/careers/positions/2152786  ...  Full time\n",
              "5  /en/careers/positions/2034972  ...        NaN\n",
              "\n",
              "[6 rows x 3 columns]"
            ]
          },
          "metadata": {
            "tags": []
          },
          "execution_count": 7
        }
      ]
    },
    {
      "cell_type": "markdown",
      "metadata": {
        "id": "ehDKyMiqSutA",
        "colab_type": "text"
      },
      "source": [
        "## Collect info from individual job pages"
      ]
    },
    {
      "cell_type": "code",
      "metadata": {
        "id": "21PWR1dHQ44I",
        "colab_type": "code",
        "colab": {}
      },
      "source": [
        "# capture info from individual pages base on the collected job ids from main page\n",
        "import re\n",
        "import requests\n",
        "from lxml import html\n",
        "def f(i):\n",
        "    newid = id[i]\n",
        "    url = ('https://n26.com' + newid)\n",
        "    page1 = requests.get('https://n26.com' + newid).content\n",
        "    tree1 = html.fromstring(page1)\n",
        "    dept = tree1.xpath('//dt[contains(text(), \"Department\")]/following-sibling::dd/a/text()')\n",
        "    loc = tree1.xpath('//dt[contains(text(), \"Location\")]/following-sibling::dd/text()')\n",
        "    role = tree1.xpath('//h2[2]/following-sibling::ul[1]/li/text()')\n",
        "    #role = [re.sub('[^a-zA-Z0-9 ,./\\-]+', '', x) for x in role]\n",
        "    #role = [x.rstrip() for x in role]\n",
        "    need = tree1.xpath('//h2[3]/following-sibling::ul[1]//li/text()')\n",
        "    bg = tree1.xpath('//p[contains(text(), \"Background:\")]/following-sibling::ul[1]/li/text()')\n",
        "    skills = tree1.xpath('//p[contains(text(), \"Skills:\")]/following-sibling::ul[1]/li/text()')\n",
        "    traits = tree1.xpath('//p[contains(text(), \"Traits:\")]/following-sibling::ul[1]/li/text()')\n",
        "    return([url, loc, dept, role, need, bg, skills, traits])\n",
        "            \n",
        "info = [f(0), f(1)]\n",
        "for i in range(2, len(id)):\n",
        "    info = info + [f(i)]\n",
        "url = [x[0] for x in info]\n",
        "loc = [x[1] for x in info]\n",
        "dept = [x[2] for x in info]\n",
        "role = [x[3] for x in info]\n",
        "need = [x[4] for x in info]\n",
        "bg = [x[5] for x in info]\n",
        "skills = [x[6] for x in info]\n",
        "traits = [x[7] for x in info]"
      ],
      "execution_count": 0,
      "outputs": []
    },
    {
      "cell_type": "code",
      "metadata": {
        "id": "I7HhpLzLrm9A",
        "colab_type": "code",
        "outputId": "8f030468-fbb4-4388-b0a3-576a9a79944f",
        "colab": {
          "base_uri": "https://localhost:8080/",
          "height": 790
        }
      },
      "source": [
        "# re-pack new info\n",
        "import pandas as pd\n",
        "df = pd.concat([pd.Series(url), pd.Series(title), \n",
        "                pd.Series(timetype), \n",
        "                pd.Series(loc), pd.Series(dept), \n",
        "                pd.Series(role), pd.Series(need),\n",
        "                pd.Series(bg),\n",
        "                pd.Series(skills), pd.Series(traits)], \n",
        "                axis=1)\n",
        "                \n",
        "df.columns = ['url', 'job', 'timetype',\n",
        "              'location', 'dept',\n",
        "              'role', 'need',\n",
        "              'background', \n",
        "              'skills', 'traits']\n",
        "df              "
      ],
      "execution_count": 0,
      "outputs": [
        {
          "output_type": "execute_result",
          "data": {
            "text/html": [
              "<div>\n",
              "<style scoped>\n",
              "    .dataframe tbody tr th:only-of-type {\n",
              "        vertical-align: middle;\n",
              "    }\n",
              "\n",
              "    .dataframe tbody tr th {\n",
              "        vertical-align: top;\n",
              "    }\n",
              "\n",
              "    .dataframe thead th {\n",
              "        text-align: right;\n",
              "    }\n",
              "</style>\n",
              "<table border=\"1\" class=\"dataframe\">\n",
              "  <thead>\n",
              "    <tr style=\"text-align: right;\">\n",
              "      <th></th>\n",
              "      <th>url</th>\n",
              "      <th>job</th>\n",
              "      <th>timetype</th>\n",
              "      <th>location</th>\n",
              "      <th>dept</th>\n",
              "      <th>role</th>\n",
              "      <th>need</th>\n",
              "      <th>background</th>\n",
              "      <th>skills</th>\n",
              "      <th>traits</th>\n",
              "    </tr>\n",
              "  </thead>\n",
              "  <tbody>\n",
              "    <tr>\n",
              "      <th>0</th>\n",
              "      <td>https://n26.com/en/careers/positions/2152856</td>\n",
              "      <td>Content Writer -  English Speaking</td>\n",
              "      <td>Full time</td>\n",
              "      <td>[Berlin]</td>\n",
              "      <td>[Marketing]</td>\n",
              "      <td>[Write and transcreate content (US English) fo...</td>\n",
              "      <td>[You’re a native English speaker with over 3 y...</td>\n",
              "      <td>[You’re a native English speaker with over 3 y...</td>\n",
              "      <td>[You possess exceptional English-language writ...</td>\n",
              "      <td>[Actively help yourself (and others) be succes...</td>\n",
              "    </tr>\n",
              "    <tr>\n",
              "      <th>1</th>\n",
              "      <td>https://n26.com/en/careers/positions/2150159</td>\n",
              "      <td>Director of Banking Strategy and Excellence</td>\n",
              "      <td>Full time</td>\n",
              "      <td>[Berlin]</td>\n",
              "      <td>[Banking]</td>\n",
              "      <td>[Assume responsibility for the implementation,...</td>\n",
              "      <td>[At least 8 years of experience in business- o...</td>\n",
              "      <td>[At least 8 years of experience in business- o...</td>\n",
              "      <td>[A strategic and innovative mindset, supported...</td>\n",
              "      <td>[Actively help yourself (and others) be succes...</td>\n",
              "    </tr>\n",
              "    <tr>\n",
              "      <th>2</th>\n",
              "      <td>https://n26.com/en/careers/positions/1815799</td>\n",
              "      <td>Director of Global Public Relations</td>\n",
              "      <td>Full time</td>\n",
              "      <td>[Berlin]</td>\n",
              "      <td>[Marketing]</td>\n",
              "      <td>[Own N26 external communications efforts by co...</td>\n",
              "      <td>[12 + years experience in corporate communicat...</td>\n",
              "      <td>[]</td>\n",
              "      <td>[]</td>\n",
              "      <td>[]</td>\n",
              "    </tr>\n",
              "    <tr>\n",
              "      <th>3</th>\n",
              "      <td>https://n26.com/en/careers/positions/1979536</td>\n",
              "      <td>Director of People - US</td>\n",
              "      <td>Full time</td>\n",
              "      <td>[New York]</td>\n",
              "      <td>[People]</td>\n",
              "      <td>[Drive and lead complex projects to support ou...</td>\n",
              "      <td>[Drive and lead complex projects to support ou...</td>\n",
              "      <td>[]</td>\n",
              "      <td>[]</td>\n",
              "      <td>[Actively help yourself (and others) be succes...</td>\n",
              "    </tr>\n",
              "    <tr>\n",
              "      <th>4</th>\n",
              "      <td>https://n26.com/en/careers/positions/2152786</td>\n",
              "      <td>Editor in Chief</td>\n",
              "      <td>Full time</td>\n",
              "      <td>[Berlin]</td>\n",
              "      <td>[Marketing]</td>\n",
              "      <td>[Ensure consistent excellence in story assignm...</td>\n",
              "      <td>[You have 10+ years of editing experience, Sev...</td>\n",
              "      <td>[You have 10+ years of editing experience, Sev...</td>\n",
              "      <td>[You are passionate about great storytelling, ...</td>\n",
              "      <td>[Actively help yourself (and others) be succes...</td>\n",
              "    </tr>\n",
              "    <tr>\n",
              "      <th>5</th>\n",
              "      <td>https://n26.com/en/careers/positions/2034972</td>\n",
              "      <td>Engineering Manager - Payments/Financial Crime</td>\n",
              "      <td>NaN</td>\n",
              "      <td>[Berlin]</td>\n",
              "      <td>[Technology]</td>\n",
              "      <td>[Support, invest in and develop an incredible ...</td>\n",
              "      <td>[Experience growing, coaching, mentoring and p...</td>\n",
              "      <td>[]</td>\n",
              "      <td>[]</td>\n",
              "      <td>[]</td>\n",
              "    </tr>\n",
              "  </tbody>\n",
              "</table>\n",
              "</div>"
            ],
            "text/plain": [
              "                                            url  ...                                             traits\n",
              "0  https://n26.com/en/careers/positions/2152856  ...  [Actively help yourself (and others) be succes...\n",
              "1  https://n26.com/en/careers/positions/2150159  ...  [Actively help yourself (and others) be succes...\n",
              "2  https://n26.com/en/careers/positions/1815799  ...                                                 []\n",
              "3  https://n26.com/en/careers/positions/1979536  ...  [Actively help yourself (and others) be succes...\n",
              "4  https://n26.com/en/careers/positions/2152786  ...  [Actively help yourself (and others) be succes...\n",
              "5  https://n26.com/en/careers/positions/2034972  ...                                                 []\n",
              "\n",
              "[6 rows x 10 columns]"
            ]
          },
          "metadata": {
            "tags": []
          },
          "execution_count": 91
        }
      ]
    },
    {
      "cell_type": "code",
      "metadata": {
        "id": "z9SoyEClT8Zs",
        "colab_type": "code",
        "outputId": "e9f80c3b-77b9-423c-c022-758b74c188bd",
        "colab": {
          "base_uri": "https://localhost:8080/",
          "height": 34
        }
      },
      "source": [
        "df.location[3]"
      ],
      "execution_count": 0,
      "outputs": [
        {
          "output_type": "execute_result",
          "data": {
            "text/plain": [
              "['New York']"
            ]
          },
          "metadata": {
            "tags": []
          },
          "execution_count": 92
        }
      ]
    },
    {
      "cell_type": "markdown",
      "metadata": {
        "id": "k67xdHg4S6MI",
        "colab_type": "text"
      },
      "source": [
        "## Initial analysis of jobs"
      ]
    },
    {
      "cell_type": "code",
      "metadata": {
        "id": "-kQnuSQ_RtTN",
        "colab_type": "code",
        "outputId": "6e7b3d78-8ee1-4e5b-aaa0-fabaeb468884",
        "colab": {
          "base_uri": "https://localhost:8080/",
          "height": 311
        }
      },
      "source": [
        "df.info()"
      ],
      "execution_count": 0,
      "outputs": [
        {
          "output_type": "stream",
          "text": [
            "<class 'pandas.core.frame.DataFrame'>\n",
            "RangeIndex: 6 entries, 0 to 5\n",
            "Data columns (total 10 columns):\n",
            " #   Column      Non-Null Count  Dtype \n",
            "---  ------      --------------  ----- \n",
            " 0   url         6 non-null      object\n",
            " 1   job         6 non-null      object\n",
            " 2   timetype    5 non-null      object\n",
            " 3   location    6 non-null      object\n",
            " 4   dept        6 non-null      object\n",
            " 5   role        6 non-null      object\n",
            " 6   need        6 non-null      object\n",
            " 7   background  6 non-null      object\n",
            " 8   skills      6 non-null      object\n",
            " 9   traits      6 non-null      object\n",
            "dtypes: object(10)\n",
            "memory usage: 608.0+ bytes\n"
          ],
          "name": "stdout"
        }
      ]
    },
    {
      "cell_type": "code",
      "metadata": {
        "id": "3o-578-_SiYA",
        "colab_type": "code",
        "outputId": "543a2383-b3ad-4196-c160-7f0423338c12",
        "colab": {
          "base_uri": "https://localhost:8080/",
          "height": 670
        }
      },
      "source": [
        "df.head()"
      ],
      "execution_count": 0,
      "outputs": [
        {
          "output_type": "execute_result",
          "data": {
            "text/html": [
              "<div>\n",
              "<style scoped>\n",
              "    .dataframe tbody tr th:only-of-type {\n",
              "        vertical-align: middle;\n",
              "    }\n",
              "\n",
              "    .dataframe tbody tr th {\n",
              "        vertical-align: top;\n",
              "    }\n",
              "\n",
              "    .dataframe thead th {\n",
              "        text-align: right;\n",
              "    }\n",
              "</style>\n",
              "<table border=\"1\" class=\"dataframe\">\n",
              "  <thead>\n",
              "    <tr style=\"text-align: right;\">\n",
              "      <th></th>\n",
              "      <th>url</th>\n",
              "      <th>job</th>\n",
              "      <th>timetype</th>\n",
              "      <th>location</th>\n",
              "      <th>dept</th>\n",
              "      <th>role</th>\n",
              "      <th>need</th>\n",
              "      <th>background</th>\n",
              "      <th>skills</th>\n",
              "      <th>traits</th>\n",
              "    </tr>\n",
              "  </thead>\n",
              "  <tbody>\n",
              "    <tr>\n",
              "      <th>0</th>\n",
              "      <td>https://n26.com/en/careers/positions/2152856</td>\n",
              "      <td>Content Writer -  English Speaking</td>\n",
              "      <td>Full time</td>\n",
              "      <td>[Berlin]</td>\n",
              "      <td>[Marketing]</td>\n",
              "      <td>[Write and transcreate content (US English) fo...</td>\n",
              "      <td>[You’re a native English speaker with over 3 y...</td>\n",
              "      <td>[You’re a native English speaker with over 3 y...</td>\n",
              "      <td>[You possess exceptional English-language writ...</td>\n",
              "      <td>[Actively help yourself (and others) be succes...</td>\n",
              "    </tr>\n",
              "    <tr>\n",
              "      <th>1</th>\n",
              "      <td>https://n26.com/en/careers/positions/2150159</td>\n",
              "      <td>Director of Banking Strategy and Excellence</td>\n",
              "      <td>Full time</td>\n",
              "      <td>[Berlin]</td>\n",
              "      <td>[Banking]</td>\n",
              "      <td>[Assume responsibility for the implementation,...</td>\n",
              "      <td>[At least 8 years of experience in business- o...</td>\n",
              "      <td>[At least 8 years of experience in business- o...</td>\n",
              "      <td>[A strategic and innovative mindset, supported...</td>\n",
              "      <td>[Actively help yourself (and others) be succes...</td>\n",
              "    </tr>\n",
              "    <tr>\n",
              "      <th>2</th>\n",
              "      <td>https://n26.com/en/careers/positions/1815799</td>\n",
              "      <td>Director of Global Public Relations</td>\n",
              "      <td>Full time</td>\n",
              "      <td>[Berlin]</td>\n",
              "      <td>[Marketing]</td>\n",
              "      <td>[Own N26 external communications efforts by co...</td>\n",
              "      <td>[12 + years experience in corporate communicat...</td>\n",
              "      <td>[]</td>\n",
              "      <td>[]</td>\n",
              "      <td>[]</td>\n",
              "    </tr>\n",
              "    <tr>\n",
              "      <th>3</th>\n",
              "      <td>https://n26.com/en/careers/positions/1979536</td>\n",
              "      <td>Director of People - US</td>\n",
              "      <td>Full time</td>\n",
              "      <td>[New York]</td>\n",
              "      <td>[People]</td>\n",
              "      <td>[Drive and lead complex projects to support ou...</td>\n",
              "      <td>[Drive and lead complex projects to support ou...</td>\n",
              "      <td>[]</td>\n",
              "      <td>[]</td>\n",
              "      <td>[Actively help yourself (and others) be succes...</td>\n",
              "    </tr>\n",
              "    <tr>\n",
              "      <th>4</th>\n",
              "      <td>https://n26.com/en/careers/positions/2152786</td>\n",
              "      <td>Editor in Chief</td>\n",
              "      <td>Full time</td>\n",
              "      <td>[Berlin]</td>\n",
              "      <td>[Marketing]</td>\n",
              "      <td>[Ensure consistent excellence in story assignm...</td>\n",
              "      <td>[You have 10+ years of editing experience, Sev...</td>\n",
              "      <td>[You have 10+ years of editing experience, Sev...</td>\n",
              "      <td>[You are passionate about great storytelling, ...</td>\n",
              "      <td>[Actively help yourself (and others) be succes...</td>\n",
              "    </tr>\n",
              "  </tbody>\n",
              "</table>\n",
              "</div>"
            ],
            "text/plain": [
              "                                            url  ...                                             traits\n",
              "0  https://n26.com/en/careers/positions/2152856  ...  [Actively help yourself (and others) be succes...\n",
              "1  https://n26.com/en/careers/positions/2150159  ...  [Actively help yourself (and others) be succes...\n",
              "2  https://n26.com/en/careers/positions/1815799  ...                                                 []\n",
              "3  https://n26.com/en/careers/positions/1979536  ...  [Actively help yourself (and others) be succes...\n",
              "4  https://n26.com/en/careers/positions/2152786  ...  [Actively help yourself (and others) be succes...\n",
              "\n",
              "[5 rows x 10 columns]"
            ]
          },
          "metadata": {
            "tags": []
          },
          "execution_count": 102
        }
      ]
    }
  ]
}